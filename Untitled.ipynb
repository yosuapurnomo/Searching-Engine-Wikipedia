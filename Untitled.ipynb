{
 "cells": [
  {
   "cell_type": "code",
   "execution_count": 1,
   "metadata": {},
   "outputs": [],
   "source": [
    "import nltk\n",
    "import wikipedia\n",
    "import string\n",
    "import math\n",
    "import numpy as np\n",
    "import pandas as pd\n",
    "from sklearn.feature_extraction.text import CountVectorizer, TfidfTransformer"
   ]
  },
  {
   "cell_type": "code",
   "execution_count": 2,
   "metadata": {},
   "outputs": [],
   "source": [
    "stopwords_list = nltk.corpus.stopwords.words('indonesian')\n",
    "wikipedia.set_lang('id')"
   ]
  },
  {
   "cell_type": "code",
   "execution_count": 4,
   "metadata": {},
   "outputs": [
    {
     "name": "stdout",
     "output_type": "stream",
     "text": [
      "Keyword : komodo\n"
     ]
    }
   ],
   "source": [
    "keyword = input(\"Keyword : \")\n",
    "dataTraining = wikipedia.summary(keyword).lower()"
   ]
  },
  {
   "cell_type": "code",
   "execution_count": 5,
   "metadata": {},
   "outputs": [
    {
     "data": {
      "text/plain": [
       "'komodo, atau juga disebut biawak komodo (varanus komodoensis), adalah spesies biawak besar yang terdapat di pulau komodo, rinca, flores, gili motang, dan gili dasami di provinsi nusa tenggara timur, indonesia. biawak ini oleh penduduk asli pulau komodo juga disebut dengan nama setempat ora.komodo merupakan spesies terbesar dari familia varanidae, sekaligus kadal terbesar di dunia, dengan rata-rata panjang 2-3 meter dan beratnya bisa mencapai 100 kg. komodo merupakan pemangsa puncak di habitatnya karena sejauh ini tidak diketahui adanya hewan karnivora besar lain selain biawak ini di sebarang geografisnya.tubuhnya yang besar dan reputasinya yang mengerikan membuat mereka menjadi salah satu hewan paling terkenal di dunia. sekarang, habitat komodo yang sesungguhnya telah menyusut akibat aktivitas manusia, sehingga lembaga iucn memasukkan komodo sebagai spesies yang rentan terhadap kepunahan. biawak komodo telah ditetapkan sebagai hewan yang dilindungi oleh pemerintah indonesia dan habitanya dijadikan taman nasional, yaitu taman nasional komodo, yang tujuannya didirikan untuk melindungi mereka.'"
      ]
     },
     "execution_count": 5,
     "metadata": {},
     "output_type": "execute_result"
    }
   ],
   "source": [
    "dataTraining"
   ]
  },
  {
   "cell_type": "code",
   "execution_count": 6,
   "metadata": {},
   "outputs": [],
   "source": [
    "def text_selection(data):\n",
    "    dataTraining_Selection = [word for word in data if word not in string.punctuation]\n",
    "    dataTraining_Selection = ''.join(dataTraining_Selection)\n",
    "\n",
    "    dataTraining_Selection = [word for word in dataTraining_Selection.split() if word.lower() not in stopwords_list]\n",
    "    \n",
    "    return dataTraining_Selection"
   ]
  },
  {
   "cell_type": "code",
   "execution_count": 7,
   "metadata": {},
   "outputs": [],
   "source": [
    "datasetKeyword = pd.read_excel(\"datasetKeyword.xlsx\")\n",
    "datasetKelas = pd.read_excel(\"datasetKelas.xlsx\", index_col='id')"
   ]
  },
  {
   "cell_type": "code",
   "execution_count": 8,
   "metadata": {},
   "outputs": [
    {
     "data": {
      "text/plain": [
       "['komodo',\n",
       " 'biawak',\n",
       " 'komodo',\n",
       " 'varanus',\n",
       " 'komodoensis',\n",
       " 'spesies',\n",
       " 'biawak',\n",
       " 'pulau',\n",
       " 'komodo',\n",
       " 'rinca',\n",
       " 'flores',\n",
       " 'gili',\n",
       " 'motang',\n",
       " 'gili',\n",
       " 'dasami',\n",
       " 'provinsi',\n",
       " 'nusa',\n",
       " 'tenggara',\n",
       " 'timur',\n",
       " 'indonesia',\n",
       " 'biawak',\n",
       " 'penduduk',\n",
       " 'asli',\n",
       " 'pulau',\n",
       " 'komodo',\n",
       " 'nama',\n",
       " 'orakomodo',\n",
       " 'spesies',\n",
       " 'terbesar',\n",
       " 'familia',\n",
       " 'varanidae',\n",
       " 'kadal',\n",
       " 'terbesar',\n",
       " 'dunia',\n",
       " 'ratarata',\n",
       " '23',\n",
       " 'meter',\n",
       " 'beratnya',\n",
       " 'mencapai',\n",
       " '100',\n",
       " 'kg',\n",
       " 'komodo',\n",
       " 'pemangsa',\n",
       " 'puncak',\n",
       " 'habitatnya',\n",
       " 'hewan',\n",
       " 'karnivora',\n",
       " 'biawak',\n",
       " 'sebarang',\n",
       " 'geografisnyatubuhnya',\n",
       " 'reputasinya',\n",
       " 'mengerikan',\n",
       " 'salah',\n",
       " 'hewan',\n",
       " 'terkenal',\n",
       " 'dunia',\n",
       " 'habitat',\n",
       " 'komodo',\n",
       " 'sesungguhnya',\n",
       " 'menyusut',\n",
       " 'akibat',\n",
       " 'aktivitas',\n",
       " 'manusia',\n",
       " 'lembaga',\n",
       " 'iucn',\n",
       " 'memasukkan',\n",
       " 'komodo',\n",
       " 'spesies',\n",
       " 'rentan',\n",
       " 'kepunahan',\n",
       " 'biawak',\n",
       " 'komodo',\n",
       " 'ditetapkan',\n",
       " 'hewan',\n",
       " 'dilindungi',\n",
       " 'pemerintah',\n",
       " 'indonesia',\n",
       " 'habitanya',\n",
       " 'dijadikan',\n",
       " 'taman',\n",
       " 'nasional',\n",
       " 'taman',\n",
       " 'nasional',\n",
       " 'komodo',\n",
       " 'tujuannya',\n",
       " 'didirikan',\n",
       " 'melindungi']"
      ]
     },
     "execution_count": 8,
     "metadata": {},
     "output_type": "execute_result"
    }
   ],
   "source": [
    "data = text_selection(dataTraining)\n",
    "data"
   ]
  },
  {
   "cell_type": "code",
   "execution_count": 9,
   "metadata": {},
   "outputs": [],
   "source": [
    "listData = []\n",
    "listfoundData = []\n",
    "for a in data:\n",
    "    if a not in listData:\n",
    "        listData.append(a)\n",
    "    else:\n",
    "        listfoundData.append(a)\n",
    "        \n",
    "listfoundData.sort()\n",
    "listData.sort()\n",
    "npLabel = []\n",
    "countLabel = []\n",
    "for a in listfoundData:\n",
    "    if a not in npLabel and a != keyword:\n",
    "        npLabel.append(a)\n",
    "        countLabel.append((listfoundData.count(a) + 1))\n",
    "\n",
    "\n",
    "pdTrain = pd.DataFrame({'label':npLabel, 'muncul':countLabel}).sort_values(by=['muncul', 'label'], axis=0, ascending=False)"
   ]
  },
  {
   "cell_type": "code",
   "execution_count": 10,
   "metadata": {},
   "outputs": [
    {
     "data": {
      "text/html": [
       "<div>\n",
       "<style scoped>\n",
       "    .dataframe tbody tr th:only-of-type {\n",
       "        vertical-align: middle;\n",
       "    }\n",
       "\n",
       "    .dataframe tbody tr th {\n",
       "        vertical-align: top;\n",
       "    }\n",
       "\n",
       "    .dataframe thead th {\n",
       "        text-align: right;\n",
       "    }\n",
       "</style>\n",
       "<table border=\"1\" class=\"dataframe\">\n",
       "  <thead>\n",
       "    <tr style=\"text-align: right;\">\n",
       "      <th></th>\n",
       "      <th>label</th>\n",
       "      <th>muncul</th>\n",
       "    </tr>\n",
       "  </thead>\n",
       "  <tbody>\n",
       "    <tr>\n",
       "      <th>0</th>\n",
       "      <td>biawak</td>\n",
       "      <td>5</td>\n",
       "    </tr>\n",
       "    <tr>\n",
       "      <th>7</th>\n",
       "      <td>spesies</td>\n",
       "      <td>3</td>\n",
       "    </tr>\n",
       "    <tr>\n",
       "      <th>3</th>\n",
       "      <td>hewan</td>\n",
       "      <td>3</td>\n",
       "    </tr>\n",
       "  </tbody>\n",
       "</table>\n",
       "</div>"
      ],
      "text/plain": [
       "     label  muncul\n",
       "0   biawak       5\n",
       "7  spesies       3\n",
       "3    hewan       3"
      ]
     },
     "execution_count": 10,
     "metadata": {},
     "output_type": "execute_result"
    }
   ],
   "source": [
    "pdTrain[pdTrain['muncul'] > 2]"
   ]
  },
  {
   "cell_type": "code",
   "execution_count": 11,
   "metadata": {},
   "outputs": [],
   "source": [
    "countKeyword = CountVectorizer(analyzer=text_selection).fit(datasetKeyword['name'].drop_duplicates())\n",
    "countDataTesting = CountVectorizer(analyzer=text_selection).fit(data)\n",
    "\n",
    "countKelas = CountVectorizer(analyzer=text_selection).fit(datasetKelas['name'].drop_duplicates())"
   ]
  },
  {
   "cell_type": "code",
   "execution_count": 12,
   "metadata": {},
   "outputs": [],
   "source": [
    "couTransKey = countKeyword.transform([' '.join(data)])\n",
    "couTransKelas = countKelas.transform([' '.join(data)])"
   ]
  },
  {
   "cell_type": "code",
   "execution_count": 13,
   "metadata": {},
   "outputs": [
    {
     "name": "stdout",
     "output_type": "stream",
     "text": [
      "  (0, 7)\t2\n",
      "  (0, 20)\t2 \n",
      "\n",
      "  (0, 1)\t3\n"
     ]
    }
   ],
   "source": [
    "print(couTransKey, '\\n')\n",
    "print(couTransKelas)"
   ]
  },
  {
   "cell_type": "code",
   "execution_count": 14,
   "metadata": {},
   "outputs": [],
   "source": [
    "labelSet = [countKeyword.get_feature_names()[x] for x in couTransKey.indices if countKeyword.get_feature_names()[x] != keyword]\n",
    "munculSet = [couTransKey.data[x] for x in range(len(couTransKey.indices)) if countKeyword.get_feature_names()[couTransKey.indices[x]] != keyword]\n",
    "\n",
    "pdKeyword = pd.DataFrame({'label':labelSet, 'muncul':munculSet}).sort_values(axis=0, by=['muncul', 'label'], ascending=False)"
   ]
  },
  {
   "cell_type": "code",
   "execution_count": 15,
   "metadata": {},
   "outputs": [
    {
     "data": {
      "text/html": [
       "<div>\n",
       "<style scoped>\n",
       "    .dataframe tbody tr th:only-of-type {\n",
       "        vertical-align: middle;\n",
       "    }\n",
       "\n",
       "    .dataframe tbody tr th {\n",
       "        vertical-align: top;\n",
       "    }\n",
       "\n",
       "    .dataframe thead th {\n",
       "        text-align: right;\n",
       "    }\n",
       "</style>\n",
       "<table border=\"1\" class=\"dataframe\">\n",
       "  <thead>\n",
       "    <tr style=\"text-align: right;\">\n",
       "      <th></th>\n",
       "      <th>label</th>\n",
       "      <th>muncul</th>\n",
       "    </tr>\n",
       "  </thead>\n",
       "  <tbody>\n",
       "    <tr>\n",
       "      <th>1</th>\n",
       "      <td>pulau</td>\n",
       "      <td>2</td>\n",
       "    </tr>\n",
       "    <tr>\n",
       "      <th>0</th>\n",
       "      <td>indonesia</td>\n",
       "      <td>2</td>\n",
       "    </tr>\n",
       "  </tbody>\n",
       "</table>\n",
       "</div>"
      ],
      "text/plain": [
       "       label  muncul\n",
       "1      pulau       2\n",
       "0  indonesia       2"
      ]
     },
     "execution_count": 15,
     "metadata": {},
     "output_type": "execute_result"
    }
   ],
   "source": [
    "pdKeyword"
   ]
  },
  {
   "cell_type": "code",
   "execution_count": 16,
   "metadata": {},
   "outputs": [],
   "source": [
    "labelSet = [countKelas.get_feature_names()[x] for x in couTransKelas.indices if countKelas.get_feature_names()[x] != keyword]\n",
    "munculSet = [couTransKelas.data[x] for x in range(len(couTransKelas.indices)) if countKelas.get_feature_names()[couTransKelas.indices[x]] != keyword]\n",
    "\n",
    "pdKelas = pd.DataFrame({'label':labelSet, 'muncul':munculSet}).sort_values(axis=0, by=['muncul', 'label'], ascending=False)"
   ]
  },
  {
   "cell_type": "code",
   "execution_count": 17,
   "metadata": {},
   "outputs": [
    {
     "data": {
      "text/html": [
       "<div>\n",
       "<style scoped>\n",
       "    .dataframe tbody tr th:only-of-type {\n",
       "        vertical-align: middle;\n",
       "    }\n",
       "\n",
       "    .dataframe tbody tr th {\n",
       "        vertical-align: top;\n",
       "    }\n",
       "\n",
       "    .dataframe thead th {\n",
       "        text-align: right;\n",
       "    }\n",
       "</style>\n",
       "<table border=\"1\" class=\"dataframe\">\n",
       "  <thead>\n",
       "    <tr style=\"text-align: right;\">\n",
       "      <th></th>\n",
       "      <th>label</th>\n",
       "      <th>muncul</th>\n",
       "    </tr>\n",
       "  </thead>\n",
       "  <tbody>\n",
       "    <tr>\n",
       "      <th>0</th>\n",
       "      <td>hewan</td>\n",
       "      <td>3</td>\n",
       "    </tr>\n",
       "  </tbody>\n",
       "</table>\n",
       "</div>"
      ],
      "text/plain": [
       "   label  muncul\n",
       "0  hewan       3"
      ]
     },
     "execution_count": 17,
     "metadata": {},
     "output_type": "execute_result"
    }
   ],
   "source": [
    "pdKelas"
   ]
  },
  {
   "cell_type": "code",
   "execution_count": 18,
   "metadata": {},
   "outputs": [],
   "source": [
    "dataConcat = pd.concat([pdKeyword, pdKelas, pdTrain[pdTrain['muncul'] > 2]], axis=0)\n",
    "dataConcat.drop_duplicates(subset='label', inplace=True)\n",
    "dataConcat.reset_index(drop=True, inplace=True)"
   ]
  },
  {
   "cell_type": "code",
   "execution_count": 19,
   "metadata": {},
   "outputs": [],
   "source": [
    "def searchRelevanWord(key):\n",
    "    dataRelevan = wikipedia.summary(key).lower()\n",
    "    dataKey = text_proses(dataRelevan)\n",
    "    countKey = 0\n",
    "    for i in dataKey:\n",
    "        if i == keyword:\n",
    "            countKey += 1\n",
    "    return countKey"
   ]
  },
  {
   "cell_type": "code",
   "execution_count": 20,
   "metadata": {},
   "outputs": [],
   "source": [
    "def cariKelas(key):\n",
    "    labelSet = [x for x in key['label']]\n",
    "    munculSet = [x for x in key['muncul']]\n",
    "    keySetTes = [c for c in datasetKeyword.name if c in labelSet]\n",
    "    kelasSetTes = [c for c in datasetKelas.name if c in labelSet]\n",
    "    \n",
    "    kelasSet = []\n",
    "\n",
    "    for c in labelSet:\n",
    "        if c in keySetTes:\n",
    "            kelasSet.append(datasetKeyword.loc[datasetKeyword['name'] == c]['kelas'].values[0])\n",
    "        elif c in kelasSetTes:\n",
    "            kelasSet.append(datasetKelas[datasetKelas['name'] == c].index[0])\n",
    "        else:kelasSet.append(-1)\n",
    "            \n",
    "    return pd.DataFrame({'label':labelSet, 'kelas':kelasSet, 'muncul':munculSet}).sort_values(axis=0, by=['kelas'])"
   ]
  },
  {
   "cell_type": "code",
   "execution_count": 21,
   "metadata": {
    "scrolled": true
   },
   "outputs": [
    {
     "data": {
      "text/html": [
       "<div>\n",
       "<style scoped>\n",
       "    .dataframe tbody tr th:only-of-type {\n",
       "        vertical-align: middle;\n",
       "    }\n",
       "\n",
       "    .dataframe tbody tr th {\n",
       "        vertical-align: top;\n",
       "    }\n",
       "\n",
       "    .dataframe thead th {\n",
       "        text-align: right;\n",
       "    }\n",
       "</style>\n",
       "<table border=\"1\" class=\"dataframe\">\n",
       "  <thead>\n",
       "    <tr style=\"text-align: right;\">\n",
       "      <th></th>\n",
       "      <th>label</th>\n",
       "      <th>muncul</th>\n",
       "    </tr>\n",
       "  </thead>\n",
       "  <tbody>\n",
       "    <tr>\n",
       "      <th>0</th>\n",
       "      <td>pulau</td>\n",
       "      <td>2</td>\n",
       "    </tr>\n",
       "    <tr>\n",
       "      <th>1</th>\n",
       "      <td>indonesia</td>\n",
       "      <td>2</td>\n",
       "    </tr>\n",
       "    <tr>\n",
       "      <th>2</th>\n",
       "      <td>hewan</td>\n",
       "      <td>3</td>\n",
       "    </tr>\n",
       "    <tr>\n",
       "      <th>3</th>\n",
       "      <td>biawak</td>\n",
       "      <td>5</td>\n",
       "    </tr>\n",
       "    <tr>\n",
       "      <th>4</th>\n",
       "      <td>spesies</td>\n",
       "      <td>3</td>\n",
       "    </tr>\n",
       "  </tbody>\n",
       "</table>\n",
       "</div>"
      ],
      "text/plain": [
       "       label  muncul\n",
       "0      pulau       2\n",
       "1  indonesia       2\n",
       "2      hewan       3\n",
       "3     biawak       5\n",
       "4    spesies       3"
      ]
     },
     "execution_count": 21,
     "metadata": {},
     "output_type": "execute_result"
    }
   ],
   "source": [
    "dataConcat"
   ]
  },
  {
   "cell_type": "code",
   "execution_count": 22,
   "metadata": {},
   "outputs": [],
   "source": [
    "dataNew = cariKelas(dataConcat)"
   ]
  },
  {
   "cell_type": "code",
   "execution_count": 23,
   "metadata": {},
   "outputs": [
    {
     "data": {
      "text/html": [
       "<div>\n",
       "<style scoped>\n",
       "    .dataframe tbody tr th:only-of-type {\n",
       "        vertical-align: middle;\n",
       "    }\n",
       "\n",
       "    .dataframe tbody tr th {\n",
       "        vertical-align: top;\n",
       "    }\n",
       "\n",
       "    .dataframe thead th {\n",
       "        text-align: right;\n",
       "    }\n",
       "</style>\n",
       "<table border=\"1\" class=\"dataframe\">\n",
       "  <thead>\n",
       "    <tr style=\"text-align: right;\">\n",
       "      <th></th>\n",
       "      <th>label</th>\n",
       "      <th>kelas</th>\n",
       "      <th>muncul</th>\n",
       "    </tr>\n",
       "  </thead>\n",
       "  <tbody>\n",
       "    <tr>\n",
       "      <th>3</th>\n",
       "      <td>biawak</td>\n",
       "      <td>-1</td>\n",
       "      <td>5</td>\n",
       "    </tr>\n",
       "    <tr>\n",
       "      <th>4</th>\n",
       "      <td>spesies</td>\n",
       "      <td>-1</td>\n",
       "      <td>3</td>\n",
       "    </tr>\n",
       "    <tr>\n",
       "      <th>2</th>\n",
       "      <td>hewan</td>\n",
       "      <td>1</td>\n",
       "      <td>3</td>\n",
       "    </tr>\n",
       "    <tr>\n",
       "      <th>0</th>\n",
       "      <td>pulau</td>\n",
       "      <td>2</td>\n",
       "      <td>2</td>\n",
       "    </tr>\n",
       "    <tr>\n",
       "      <th>1</th>\n",
       "      <td>indonesia</td>\n",
       "      <td>2</td>\n",
       "      <td>2</td>\n",
       "    </tr>\n",
       "  </tbody>\n",
       "</table>\n",
       "</div>"
      ],
      "text/plain": [
       "       label  kelas  muncul\n",
       "3     biawak     -1       5\n",
       "4    spesies     -1       3\n",
       "2      hewan      1       3\n",
       "0      pulau      2       2\n",
       "1  indonesia      2       2"
      ]
     },
     "execution_count": 23,
     "metadata": {},
     "output_type": "execute_result"
    }
   ],
   "source": [
    "dataNew"
   ]
  },
  {
   "cell_type": "code",
   "execution_count": 24,
   "metadata": {},
   "outputs": [
    {
     "data": {
      "text/plain": [
       "[['hewan', True], ['pulau', True], ['indonesia', True]]"
      ]
     },
     "execution_count": 24,
     "metadata": {},
     "output_type": "execute_result"
    }
   ],
   "source": [
    "dataChecker = []\n",
    "for x in dataNew[dataNew['kelas'] > 0].values:\n",
    "    try:\n",
    "        wikipedia.summary(f\"{x[0]} {keyword}\").lower()\n",
    "        dataChecker.append([x[0], True])\n",
    "        continue\n",
    "    except:\n",
    "        dataChecker.append([x[0], False])\n",
    "    try:\n",
    "        wikipedia.summary(f\"{keyword} {x[0]}\").lower()\n",
    "        dataChecker.append([x[0], True])\n",
    "    except:\n",
    "        dataChecker.append([x[0], False])\n",
    "        \n",
    "dataChecker"
   ]
  },
  {
   "cell_type": "code",
   "execution_count": 26,
   "metadata": {},
   "outputs": [],
   "source": [
    "if dataTraining == wikipedia.summary('pulau komodo').lower():\n",
    "    print(True)"
   ]
  },
  {
   "cell_type": "code",
   "execution_count": 3,
   "metadata": {},
   "outputs": [
    {
     "data": {
      "text/plain": [
       "'pulau komodo adalah sebuah pulau yang terletak di kepulauan nusa tenggara, berada di sebelah timur pulau sumbawa, yang dipisahkan oleh selat sape. pulau komodo dikenal sebagai habitat asli hewan komodo.\\npulau ini termasuk salah satu kawasan taman nasional komodo yang dikelola oleh pemerintah pusat.\\nsecara administratif, pulau ini termasuk wilayah kabupaten manggarai barat, kecamatan komodo, provinsi nusa tenggara timur, indonesia. pulau komodo merupakan ujung paling barat provinsi nusa tenggara timur, berbatasan dengan provinsi nusa tenggara barat.\\ndi pulau komodo, hewan komodo hidup dan berkembang biak dengan baik. hingga agustus 2009, di pulau ini terdapat sekitar 1300 ekor komodo. ditambah dengan pulau lain, seperti pulau rinca dan dan gili motang, jumlah mereka keseluruhan mencapai sekitar 2500 ekor. ada pula sekitar 100 ekor komodo di cagar alam wae wuul di daratan pulau flores tapi tidak termasuk wilayah taman nasional komodo.\\nselain komodo, pulau ini juga menyimpan eksotisme flora yang beragam kayu sepang yang oleh warga sekitar digunakan sebagi obat dan bahan pewarna pakaian, pohon nitak ini atau sterculia oblongata di yakini berguna sebagai obat dan bijinya gurih dan enak seperti kacang polong.\\npulau komodo juga diterima sebagai situs warisan dunia unesco, karena dalam wilayah taman nasional komodo, bersama dengan pulau rinca, pulau padar dan gili motang'"
      ]
     },
     "execution_count": 3,
     "metadata": {},
     "output_type": "execute_result"
    }
   ],
   "source": [
    "wikipedia.summary('hewan komodo').lower()"
   ]
  },
  {
   "cell_type": "code",
   "execution_count": null,
   "metadata": {},
   "outputs": [],
   "source": []
  }
 ],
 "metadata": {
  "kernelspec": {
   "display_name": "Python 3",
   "language": "python",
   "name": "python3"
  },
  "language_info": {
   "codemirror_mode": {
    "name": "ipython",
    "version": 3
   },
   "file_extension": ".py",
   "mimetype": "text/x-python",
   "name": "python",
   "nbconvert_exporter": "python",
   "pygments_lexer": "ipython3",
   "version": "3.8.3"
  }
 },
 "nbformat": 4,
 "nbformat_minor": 4
}
