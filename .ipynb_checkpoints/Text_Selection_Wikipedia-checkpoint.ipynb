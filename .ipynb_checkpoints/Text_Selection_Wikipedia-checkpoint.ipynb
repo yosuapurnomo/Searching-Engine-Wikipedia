{
 "cells": [
  {
   "cell_type": "code",
   "execution_count": 1,
   "metadata": {},
   "outputs": [],
   "source": [
    "import nltk\n",
    "import wikipedia\n",
    "import string\n",
    "import math\n",
    "import numpy as np\n",
    "import pandas as pd"
   ]
  },
  {
   "cell_type": "code",
   "execution_count": null,
   "metadata": {},
   "outputs": [],
   "source": []
  },
  {
   "cell_type": "code",
   "execution_count": 2,
   "metadata": {},
   "outputs": [],
   "source": [
    "# nltk.download_shell()"
   ]
  },
  {
   "cell_type": "code",
   "execution_count": 3,
   "metadata": {},
   "outputs": [],
   "source": [
    "stopwords_list = nltk.corpus.stopwords.words('indonesian')"
   ]
  },
  {
   "cell_type": "code",
   "execution_count": 4,
   "metadata": {},
   "outputs": [],
   "source": [
    "wikipedia.set_lang('id')"
   ]
  },
  {
   "cell_type": "code",
   "execution_count": 5,
   "metadata": {},
   "outputs": [
    {
     "name": "stdout",
     "output_type": "stream",
     "text": [
      "Keyword : lombok\n"
     ]
    }
   ],
   "source": [
    "keyword = input(\"Keyword : \")"
   ]
  },
  {
   "cell_type": "code",
   "execution_count": 6,
   "metadata": {},
   "outputs": [],
   "source": [
    "dataTraining = wikipedia.summary(keyword).lower()"
   ]
  },
  {
   "cell_type": "code",
   "execution_count": 7,
   "metadata": {},
   "outputs": [
    {
     "name": "stdout",
     "output_type": "stream",
     "text": [
      "pulau lombok (jumlah penduduk pada tahun 2001: 2.722.123 jiwa) adalah sebuah pulau di kepulauan sunda kecil atau nusa tenggara yang terpisahkan oleh selat lombok dari bali di sebelah barat dan selat alas di sebelah timur dari sumbawa. pulau ini kurang lebih berbentuk bulat dengan semacam \"ekor\" di sisi barat daya yang panjangnya kurang lebih 70 km. luas pulau ini mencapai 5.435 km² menempatkannya pada peringkat 108 dari daftar pulau berdasarkan luasnya di dunia. kota utama di pulau ini adalah kota mataram.\n"
     ]
    }
   ],
   "source": [
    "print(dataTraining)"
   ]
  },
  {
   "cell_type": "code",
   "execution_count": null,
   "metadata": {},
   "outputs": [],
   "source": []
  },
  {
   "cell_type": "code",
   "execution_count": 8,
   "metadata": {},
   "outputs": [],
   "source": [
    "def text_proses(key):\n",
    "    \n",
    "    dataTraining_Selection = [word for word in key if word not in string.punctuation]\n",
    "    dataTraining_Selection = ''.join(dataTraining_Selection)\n",
    "\n",
    "    stopwords = [word for word in dataTraining_Selection.split() if word.lower() not in stopwords_list]\n",
    "    RemoveNya = [word.replace('nya', '') for word in stopwords]\n",
    "    return RemoveNya"
   ]
  },
  {
   "cell_type": "code",
   "execution_count": 9,
   "metadata": {},
   "outputs": [],
   "source": [
    "data = text_proses(dataTraining)\n",
    "dataJoin = \" \".join(data)"
   ]
  },
  {
   "cell_type": "code",
   "execution_count": 10,
   "metadata": {},
   "outputs": [],
   "source": [
    "datasetKeyword = pd.read_excel(\"datasetKeyword.xlsx\")"
   ]
  },
  {
   "cell_type": "code",
   "execution_count": 11,
   "metadata": {},
   "outputs": [],
   "source": [
    "datasetKelas = pd.read_excel(\"datasetKelas.xlsx\", index_col='id')"
   ]
  },
  {
   "cell_type": "code",
   "execution_count": 12,
   "metadata": {},
   "outputs": [
    {
     "data": {
      "text/html": [
       "<div>\n",
       "<style scoped>\n",
       "    .dataframe tbody tr th:only-of-type {\n",
       "        vertical-align: middle;\n",
       "    }\n",
       "\n",
       "    .dataframe tbody tr th {\n",
       "        vertical-align: top;\n",
       "    }\n",
       "\n",
       "    .dataframe thead th {\n",
       "        text-align: right;\n",
       "    }\n",
       "</style>\n",
       "<table border=\"1\" class=\"dataframe\">\n",
       "  <thead>\n",
       "    <tr style=\"text-align: right;\">\n",
       "      <th></th>\n",
       "      <th>name</th>\n",
       "      <th>kelas</th>\n",
       "    </tr>\n",
       "  </thead>\n",
       "  <tbody>\n",
       "    <tr>\n",
       "      <th>0</th>\n",
       "      <td>kucing</td>\n",
       "      <td>1</td>\n",
       "    </tr>\n",
       "    <tr>\n",
       "      <th>1</th>\n",
       "      <td>singa</td>\n",
       "      <td>1</td>\n",
       "    </tr>\n",
       "    <tr>\n",
       "      <th>2</th>\n",
       "      <td>harimau</td>\n",
       "      <td>1</td>\n",
       "    </tr>\n",
       "    <tr>\n",
       "      <th>3</th>\n",
       "      <td>kuda</td>\n",
       "      <td>1</td>\n",
       "    </tr>\n",
       "    <tr>\n",
       "      <th>4</th>\n",
       "      <td>kuda nil</td>\n",
       "      <td>1</td>\n",
       "    </tr>\n",
       "    <tr>\n",
       "      <th>5</th>\n",
       "      <td>kuda laut</td>\n",
       "      <td>1</td>\n",
       "    </tr>\n",
       "    <tr>\n",
       "      <th>6</th>\n",
       "      <td>betina</td>\n",
       "      <td>1</td>\n",
       "    </tr>\n",
       "    <tr>\n",
       "      <th>7</th>\n",
       "      <td>jantan</td>\n",
       "      <td>1</td>\n",
       "    </tr>\n",
       "    <tr>\n",
       "      <th>8</th>\n",
       "      <td>tikus</td>\n",
       "      <td>1</td>\n",
       "    </tr>\n",
       "    <tr>\n",
       "      <th>9</th>\n",
       "      <td>gajah</td>\n",
       "      <td>1</td>\n",
       "    </tr>\n",
       "    <tr>\n",
       "      <th>10</th>\n",
       "      <td>ikan</td>\n",
       "      <td>1</td>\n",
       "    </tr>\n",
       "    <tr>\n",
       "      <th>11</th>\n",
       "      <td>indonesia</td>\n",
       "      <td>2</td>\n",
       "    </tr>\n",
       "    <tr>\n",
       "      <th>12</th>\n",
       "      <td>china</td>\n",
       "      <td>2</td>\n",
       "    </tr>\n",
       "    <tr>\n",
       "      <th>13</th>\n",
       "      <td>jepang</td>\n",
       "      <td>2</td>\n",
       "    </tr>\n",
       "    <tr>\n",
       "      <th>14</th>\n",
       "      <td>malaysia</td>\n",
       "      <td>2</td>\n",
       "    </tr>\n",
       "    <tr>\n",
       "      <th>15</th>\n",
       "      <td>singapura</td>\n",
       "      <td>2</td>\n",
       "    </tr>\n",
       "    <tr>\n",
       "      <th>16</th>\n",
       "      <td>amerika serikat</td>\n",
       "      <td>2</td>\n",
       "    </tr>\n",
       "    <tr>\n",
       "      <th>17</th>\n",
       "      <td>kota</td>\n",
       "      <td>2</td>\n",
       "    </tr>\n",
       "    <tr>\n",
       "      <th>18</th>\n",
       "      <td>pulau</td>\n",
       "      <td>2</td>\n",
       "    </tr>\n",
       "    <tr>\n",
       "      <th>19</th>\n",
       "      <td>ibu kota</td>\n",
       "      <td>2</td>\n",
       "    </tr>\n",
       "    <tr>\n",
       "      <th>20</th>\n",
       "      <td>semangka</td>\n",
       "      <td>3</td>\n",
       "    </tr>\n",
       "    <tr>\n",
       "      <th>21</th>\n",
       "      <td>jeruk</td>\n",
       "      <td>3</td>\n",
       "    </tr>\n",
       "    <tr>\n",
       "      <th>22</th>\n",
       "      <td>apel</td>\n",
       "      <td>3</td>\n",
       "    </tr>\n",
       "    <tr>\n",
       "      <th>23</th>\n",
       "      <td>pepaya</td>\n",
       "      <td>3</td>\n",
       "    </tr>\n",
       "    <tr>\n",
       "      <th>24</th>\n",
       "      <td>melon</td>\n",
       "      <td>3</td>\n",
       "    </tr>\n",
       "    <tr>\n",
       "      <th>25</th>\n",
       "      <td>jambu</td>\n",
       "      <td>3</td>\n",
       "    </tr>\n",
       "  </tbody>\n",
       "</table>\n",
       "</div>"
      ],
      "text/plain": [
       "               name  kelas\n",
       "0            kucing      1\n",
       "1             singa      1\n",
       "2           harimau      1\n",
       "3              kuda      1\n",
       "4          kuda nil      1\n",
       "5         kuda laut      1\n",
       "6            betina      1\n",
       "7            jantan      1\n",
       "8             tikus      1\n",
       "9             gajah      1\n",
       "10             ikan      1\n",
       "11        indonesia      2\n",
       "12            china      2\n",
       "13           jepang      2\n",
       "14         malaysia      2\n",
       "15        singapura      2\n",
       "16  amerika serikat      2\n",
       "17             kota      2\n",
       "18            pulau      2\n",
       "19         ibu kota      2\n",
       "20         semangka      3\n",
       "21            jeruk      3\n",
       "22             apel      3\n",
       "23           pepaya      3\n",
       "24            melon      3\n",
       "25            jambu      3"
      ]
     },
     "execution_count": 12,
     "metadata": {},
     "output_type": "execute_result"
    }
   ],
   "source": [
    "datasetKeyword"
   ]
  },
  {
   "cell_type": "code",
   "execution_count": 13,
   "metadata": {},
   "outputs": [
    {
     "data": {
      "text/html": [
       "<div>\n",
       "<style scoped>\n",
       "    .dataframe tbody tr th:only-of-type {\n",
       "        vertical-align: middle;\n",
       "    }\n",
       "\n",
       "    .dataframe tbody tr th {\n",
       "        vertical-align: top;\n",
       "    }\n",
       "\n",
       "    .dataframe thead th {\n",
       "        text-align: right;\n",
       "    }\n",
       "</style>\n",
       "<table border=\"1\" class=\"dataframe\">\n",
       "  <thead>\n",
       "    <tr style=\"text-align: right;\">\n",
       "      <th></th>\n",
       "      <th>name</th>\n",
       "    </tr>\n",
       "    <tr>\n",
       "      <th>id</th>\n",
       "      <th></th>\n",
       "    </tr>\n",
       "  </thead>\n",
       "  <tbody>\n",
       "    <tr>\n",
       "      <th>1</th>\n",
       "      <td>hewan</td>\n",
       "    </tr>\n",
       "    <tr>\n",
       "      <th>2</th>\n",
       "      <td>negara</td>\n",
       "    </tr>\n",
       "    <tr>\n",
       "      <th>3</th>\n",
       "      <td>buah</td>\n",
       "    </tr>\n",
       "  </tbody>\n",
       "</table>\n",
       "</div>"
      ],
      "text/plain": [
       "      name\n",
       "id        \n",
       "1    hewan\n",
       "2   negara\n",
       "3     buah"
      ]
     },
     "execution_count": 13,
     "metadata": {},
     "output_type": "execute_result"
    }
   ],
   "source": [
    "datasetKelas"
   ]
  },
  {
   "cell_type": "code",
   "execution_count": 14,
   "metadata": {},
   "outputs": [],
   "source": [
    "from sklearn.feature_extraction.text import CountVectorizer, TfidfTransformer"
   ]
  },
  {
   "cell_type": "markdown",
   "metadata": {},
   "source": [
    "### Korelasi Antara Dataset dengan DataTesting yang tlah diCleaning"
   ]
  },
  {
   "cell_type": "code",
   "execution_count": 15,
   "metadata": {},
   "outputs": [],
   "source": [
    "count = CountVectorizer(analyzer=text_proses).fit(datasetKeyword['name'].drop_duplicates())\n",
    "countDataTesting = CountVectorizer(analyzer=text_proses).fit(data)"
   ]
  },
  {
   "cell_type": "code",
   "execution_count": 16,
   "metadata": {},
   "outputs": [],
   "source": [
    "mess = datasetKeyword['name'].values"
   ]
  },
  {
   "cell_type": "markdown",
   "metadata": {},
   "source": [
    "Jumlah Kesamaan Data"
   ]
  },
  {
   "cell_type": "code",
   "execution_count": 17,
   "metadata": {},
   "outputs": [],
   "source": [
    "count1 = count.transform([dataJoin])"
   ]
  },
  {
   "cell_type": "code",
   "execution_count": 18,
   "metadata": {},
   "outputs": [],
   "source": [
    "a = count1.copy()\n",
    "countCopy = count\n",
    "\n",
    "\n",
    "labelSet = [countCopy.get_feature_names()[x] for x in a.indices if countCopy.get_feature_names()[x] != keyword]\n",
    "munculSet = [a.data[x] for x in range(len(a.indices)) if countCopy.get_feature_names()[a.indices[x]] != keyword]\n",
    "\n",
    "pdSet = pd.DataFrame({'label':labelSet, 'muncul':munculSet}).sort_values(axis=0, by=['muncul', 'label'], ascending=False)"
   ]
  },
  {
   "cell_type": "code",
   "execution_count": 19,
   "metadata": {},
   "outputs": [],
   "source": [
    "listData = []\n",
    "listfoundData = []\n",
    "for a in data:\n",
    "    if a not in listData:\n",
    "        listData.append(a)\n",
    "    else:\n",
    "        listfoundData.append(a)\n",
    "        \n",
    "listfoundData.sort()\n",
    "listData.sort()\n",
    "npLabel = []\n",
    "countLabel = []\n",
    "for a in listfoundData:\n",
    "    if a not in npLabel and a != keyword:\n",
    "        npLabel.append(a)\n",
    "        countLabel.append((listfoundData.count(a) + 1))\n",
    "\n",
    "\n",
    "pdTrain = pd.DataFrame({'label':npLabel, 'muncul':countLabel}).sort_values(by=['muncul', 'label'], axis=0, ascending=False)"
   ]
  },
  {
   "cell_type": "markdown",
   "metadata": {},
   "source": [
    "Hasil Keyword yang muncul berulang pada DataTrain"
   ]
  },
  {
   "cell_type": "code",
   "execution_count": 20,
   "metadata": {},
   "outputs": [
    {
     "data": {
      "text/html": [
       "<div>\n",
       "<style scoped>\n",
       "    .dataframe tbody tr th:only-of-type {\n",
       "        vertical-align: middle;\n",
       "    }\n",
       "\n",
       "    .dataframe tbody tr th {\n",
       "        vertical-align: top;\n",
       "    }\n",
       "\n",
       "    .dataframe thead th {\n",
       "        text-align: right;\n",
       "    }\n",
       "</style>\n",
       "<table border=\"1\" class=\"dataframe\">\n",
       "  <thead>\n",
       "    <tr style=\"text-align: right;\">\n",
       "      <th></th>\n",
       "      <th>label</th>\n",
       "      <th>muncul</th>\n",
       "    </tr>\n",
       "  </thead>\n",
       "  <tbody>\n",
       "    <tr>\n",
       "      <th>3</th>\n",
       "      <td>pulau</td>\n",
       "      <td>6</td>\n",
       "    </tr>\n",
       "    <tr>\n",
       "      <th>5</th>\n",
       "      <td>selat</td>\n",
       "      <td>2</td>\n",
       "    </tr>\n",
       "    <tr>\n",
       "      <th>4</th>\n",
       "      <td>sebelah</td>\n",
       "      <td>2</td>\n",
       "    </tr>\n",
       "    <tr>\n",
       "      <th>2</th>\n",
       "      <td>luas</td>\n",
       "      <td>2</td>\n",
       "    </tr>\n",
       "    <tr>\n",
       "      <th>1</th>\n",
       "      <td>kota</td>\n",
       "      <td>2</td>\n",
       "    </tr>\n",
       "    <tr>\n",
       "      <th>0</th>\n",
       "      <td>barat</td>\n",
       "      <td>2</td>\n",
       "    </tr>\n",
       "  </tbody>\n",
       "</table>\n",
       "</div>"
      ],
      "text/plain": [
       "     label  muncul\n",
       "3    pulau       6\n",
       "5    selat       2\n",
       "4  sebelah       2\n",
       "2     luas       2\n",
       "1     kota       2\n",
       "0    barat       2"
      ]
     },
     "execution_count": 20,
     "metadata": {},
     "output_type": "execute_result"
    }
   ],
   "source": [
    "pdTrain"
   ]
  },
  {
   "cell_type": "markdown",
   "metadata": {},
   "source": [
    "Hasil Dataset x DataTrain"
   ]
  },
  {
   "cell_type": "code",
   "execution_count": 21,
   "metadata": {},
   "outputs": [
    {
     "data": {
      "text/html": [
       "<div>\n",
       "<style scoped>\n",
       "    .dataframe tbody tr th:only-of-type {\n",
       "        vertical-align: middle;\n",
       "    }\n",
       "\n",
       "    .dataframe tbody tr th {\n",
       "        vertical-align: top;\n",
       "    }\n",
       "\n",
       "    .dataframe thead th {\n",
       "        text-align: right;\n",
       "    }\n",
       "</style>\n",
       "<table border=\"1\" class=\"dataframe\">\n",
       "  <thead>\n",
       "    <tr style=\"text-align: right;\">\n",
       "      <th></th>\n",
       "      <th>label</th>\n",
       "      <th>muncul</th>\n",
       "    </tr>\n",
       "  </thead>\n",
       "  <tbody>\n",
       "    <tr>\n",
       "      <th>1</th>\n",
       "      <td>pulau</td>\n",
       "      <td>6</td>\n",
       "    </tr>\n",
       "    <tr>\n",
       "      <th>0</th>\n",
       "      <td>kota</td>\n",
       "      <td>2</td>\n",
       "    </tr>\n",
       "  </tbody>\n",
       "</table>\n",
       "</div>"
      ],
      "text/plain": [
       "   label  muncul\n",
       "1  pulau       6\n",
       "0   kota       2"
      ]
     },
     "execution_count": 21,
     "metadata": {},
     "output_type": "execute_result"
    }
   ],
   "source": [
    "pdSet"
   ]
  },
  {
   "cell_type": "code",
   "execution_count": null,
   "metadata": {},
   "outputs": [],
   "source": [
    "data_satu = datasetKeyword['label']"
   ]
  },
  {
   "cell_type": "markdown",
   "metadata": {},
   "source": [
    "Keyword DataTrain yang terdapat pada DataSet"
   ]
  },
  {
   "cell_type": "code",
   "execution_count": 22,
   "metadata": {},
   "outputs": [
    {
     "data": {
      "text/html": [
       "<div>\n",
       "<style scoped>\n",
       "    .dataframe tbody tr th:only-of-type {\n",
       "        vertical-align: middle;\n",
       "    }\n",
       "\n",
       "    .dataframe tbody tr th {\n",
       "        vertical-align: top;\n",
       "    }\n",
       "\n",
       "    .dataframe thead th {\n",
       "        text-align: right;\n",
       "    }\n",
       "</style>\n",
       "<table border=\"1\" class=\"dataframe\">\n",
       "  <thead>\n",
       "    <tr style=\"text-align: right;\">\n",
       "      <th></th>\n",
       "      <th>label</th>\n",
       "      <th>muncul</th>\n",
       "    </tr>\n",
       "  </thead>\n",
       "  <tbody>\n",
       "    <tr>\n",
       "      <th>0</th>\n",
       "      <td>pulau</td>\n",
       "      <td>6</td>\n",
       "    </tr>\n",
       "    <tr>\n",
       "      <th>1</th>\n",
       "      <td>kota</td>\n",
       "      <td>2</td>\n",
       "    </tr>\n",
       "  </tbody>\n",
       "</table>\n",
       "</div>"
      ],
      "text/plain": [
       "   label  muncul\n",
       "0  pulau       6\n",
       "1   kota       2"
      ]
     },
     "execution_count": 22,
     "metadata": {},
     "output_type": "execute_result"
    }
   ],
   "source": [
    "pdTrainCopy = pdTrain.drop(pdTrain[(pdTrain['muncul'] < 3)].index, axis=0)\n",
    "pdTrainSelection = pdTrain.drop(pdTrain[(pdTrain['muncul'] > 2)].index, axis=0)\n",
    "pdTrainSelection.reset_index(drop=True, inplace=True)\n",
    "\n",
    "dataConcat = pd.concat([pdSet, pdTrainCopy], axis=0)\n",
    "dataConcat.drop_duplicates(subset='label', inplace=True)\n",
    "dataConcat.sort_values(by=['muncul'], axis=0, ascending=False, inplace=True)\n",
    "dataConcat.reset_index(drop=True, inplace=True)\n",
    "dataConcat"
   ]
  },
  {
   "cell_type": "code",
   "execution_count": 23,
   "metadata": {},
   "outputs": [],
   "source": [
    "for i in dataConcat['label']:\n",
    "    pdTrainSelection.drop(pdTrainSelection[pdTrainSelection['label'] == i].index, axis=0, inplace=True)"
   ]
  },
  {
   "cell_type": "markdown",
   "metadata": {},
   "source": [
    "Keyword DataTrain yang tidak terdapat pada DataSet yang akan diseleksi untuk mengetahui tingkat relevan"
   ]
  },
  {
   "cell_type": "code",
   "execution_count": 24,
   "metadata": {},
   "outputs": [
    {
     "data": {
      "text/html": [
       "<div>\n",
       "<style scoped>\n",
       "    .dataframe tbody tr th:only-of-type {\n",
       "        vertical-align: middle;\n",
       "    }\n",
       "\n",
       "    .dataframe tbody tr th {\n",
       "        vertical-align: top;\n",
       "    }\n",
       "\n",
       "    .dataframe thead th {\n",
       "        text-align: right;\n",
       "    }\n",
       "</style>\n",
       "<table border=\"1\" class=\"dataframe\">\n",
       "  <thead>\n",
       "    <tr style=\"text-align: right;\">\n",
       "      <th></th>\n",
       "      <th>label</th>\n",
       "      <th>muncul</th>\n",
       "    </tr>\n",
       "  </thead>\n",
       "  <tbody>\n",
       "    <tr>\n",
       "      <th>0</th>\n",
       "      <td>selat</td>\n",
       "      <td>2</td>\n",
       "    </tr>\n",
       "    <tr>\n",
       "      <th>1</th>\n",
       "      <td>sebelah</td>\n",
       "      <td>2</td>\n",
       "    </tr>\n",
       "    <tr>\n",
       "      <th>2</th>\n",
       "      <td>luas</td>\n",
       "      <td>2</td>\n",
       "    </tr>\n",
       "    <tr>\n",
       "      <th>4</th>\n",
       "      <td>barat</td>\n",
       "      <td>2</td>\n",
       "    </tr>\n",
       "  </tbody>\n",
       "</table>\n",
       "</div>"
      ],
      "text/plain": [
       "     label  muncul\n",
       "0    selat       2\n",
       "1  sebelah       2\n",
       "2     luas       2\n",
       "4    barat       2"
      ]
     },
     "execution_count": 24,
     "metadata": {},
     "output_type": "execute_result"
    }
   ],
   "source": [
    "pdTrainSelection"
   ]
  },
  {
   "cell_type": "code",
   "execution_count": null,
   "metadata": {},
   "outputs": [],
   "source": []
  },
  {
   "cell_type": "code",
   "execution_count": 25,
   "metadata": {},
   "outputs": [],
   "source": [
    "def searchRelevanWord(key):\n",
    "    dataRelevan = wikipedia.summary(key).lower()\n",
    "    dataKey = text_proses(dataRelevan)\n",
    "    countKey = 0\n",
    "    for i in dataKey:\n",
    "        if i == keyword:\n",
    "            countKey += 1\n",
    "    return countKey"
   ]
  },
  {
   "cell_type": "code",
   "execution_count": 41,
   "metadata": {},
   "outputs": [
    {
     "name": "stdout",
     "output_type": "stream",
     "text": [
      "gagal amerika\n"
     ]
    },
    {
     "name": "stderr",
     "output_type": "stream",
     "text": [
      "C:\\Users\\LENOVO\\anaconda3\\lib\\site-packages\\wikipedia\\wikipedia.py:389: GuessedAtParserWarning: No parser was explicitly specified, so I'm using the best available HTML parser for this system (\"lxml\"). This usually isn't a problem, but if you run this code on another system, or in a different virtual environment, it may use a different parser and behave differently.\n",
      "\n",
      "The code that caused this warning is on line 389 of the file C:\\Users\\LENOVO\\anaconda3\\lib\\site-packages\\wikipedia\\wikipedia.py. To get rid of this warning, pass the additional argument 'features=\"lxml\"' to the BeautifulSoup constructor.\n",
      "\n",
      "  lis = BeautifulSoup(html).find_all('li')\n"
     ]
    },
    {
     "data": {
      "text/html": [
       "<div>\n",
       "<style scoped>\n",
       "    .dataframe tbody tr th:only-of-type {\n",
       "        vertical-align: middle;\n",
       "    }\n",
       "\n",
       "    .dataframe tbody tr th {\n",
       "        vertical-align: top;\n",
       "    }\n",
       "\n",
       "    .dataframe thead th {\n",
       "        text-align: right;\n",
       "    }\n",
       "</style>\n",
       "<table border=\"1\" class=\"dataframe\">\n",
       "  <thead>\n",
       "    <tr style=\"text-align: right;\">\n",
       "      <th></th>\n",
       "      <th>label</th>\n",
       "      <th>jumlah</th>\n",
       "    </tr>\n",
       "  </thead>\n",
       "  <tbody>\n",
       "    <tr>\n",
       "      <th>0</th>\n",
       "      <td>ikan</td>\n",
       "      <td>2.0</td>\n",
       "    </tr>\n",
       "    <tr>\n",
       "      <th>1</th>\n",
       "      <td>spesies</td>\n",
       "      <td>0.0</td>\n",
       "    </tr>\n",
       "    <tr>\n",
       "      <th>2</th>\n",
       "      <td>air</td>\n",
       "      <td>0.0</td>\n",
       "    </tr>\n",
       "    <tr>\n",
       "      <th>3</th>\n",
       "      <td>laut</td>\n",
       "      <td>0.0</td>\n",
       "    </tr>\n",
       "    <tr>\n",
       "      <th>4</th>\n",
       "      <td>amerika</td>\n",
       "      <td>-1.0</td>\n",
       "    </tr>\n",
       "  </tbody>\n",
       "</table>\n",
       "</div>"
      ],
      "text/plain": [
       "     label  jumlah\n",
       "0     ikan     2.0\n",
       "1  spesies     0.0\n",
       "2      air     0.0\n",
       "3     laut     0.0\n",
       "4  amerika    -1.0"
      ]
     },
     "execution_count": 41,
     "metadata": {},
     "output_type": "execute_result"
    }
   ],
   "source": [
    "dfRelevan = pd.DataFrame({'label': dataConcat['label'], 'jumlah':np.zeros(len(dataConcat['label']))}).sort_values(by=['jumlah'], ascending=False)\n",
    "\n",
    "for y in range(len(dfRelevan['label'])):\n",
    "    try:   \n",
    "        search = searchRelevanWord(dfRelevan.loc[y, 'label'])\n",
    "        dfRelevan.loc[y, 'jumlah'] = search\n",
    "    except (wikipedia.DisambiguationError, Exception) as e:\n",
    "        print('gagal', dfRelevan.loc[y, 'label'])\n",
    "        dfRelevan.loc[y, 'jumlah'] = -1\n",
    "        \n",
    "dfRelevan.sort_values(by=['jumlah'], axis=0, ascending=False, inplace=True)\n",
    "dfRelevan.reset_index(drop=True, inplace=True)\n",
    "dfRelevan"
   ]
  },
  {
   "cell_type": "code",
   "execution_count": 42,
   "metadata": {},
   "outputs": [
    {
     "data": {
      "text/html": [
       "<div>\n",
       "<style scoped>\n",
       "    .dataframe tbody tr th:only-of-type {\n",
       "        vertical-align: middle;\n",
       "    }\n",
       "\n",
       "    .dataframe tbody tr th {\n",
       "        vertical-align: top;\n",
       "    }\n",
       "\n",
       "    .dataframe thead th {\n",
       "        text-align: right;\n",
       "    }\n",
       "</style>\n",
       "<table border=\"1\" class=\"dataframe\">\n",
       "  <thead>\n",
       "    <tr style=\"text-align: right;\">\n",
       "      <th></th>\n",
       "      <th>label</th>\n",
       "      <th>jumlah</th>\n",
       "    </tr>\n",
       "  </thead>\n",
       "  <tbody>\n",
       "    <tr>\n",
       "      <th>0</th>\n",
       "      <td>tubuh</td>\n",
       "      <td>0.0</td>\n",
       "    </tr>\n",
       "    <tr>\n",
       "      <th>1</th>\n",
       "      <td>paus</td>\n",
       "      <td>0.0</td>\n",
       "    </tr>\n",
       "    <tr>\n",
       "      <th>2</th>\n",
       "      <td>kulit</td>\n",
       "      <td>0.0</td>\n",
       "    </tr>\n",
       "  </tbody>\n",
       "</table>\n",
       "</div>"
      ],
      "text/plain": [
       "   label  jumlah\n",
       "0  tubuh     0.0\n",
       "1   paus     0.0\n",
       "2  kulit     0.0"
      ]
     },
     "execution_count": 42,
     "metadata": {},
     "output_type": "execute_result"
    }
   ],
   "source": [
    "dfRelevanSeleksi = pd.DataFrame({'label': pdTrainSelection['label'], 'jumlah':np.zeros(len(pdTrainSelection['label']))})\n",
    "dfRelevanSeleksi.reset_index(drop=True, inplace=True)\n",
    "\n",
    "for y in range(len(dfRelevanSeleksi['label'])):\n",
    "    try:   \n",
    "        search = searchRelevanWord(dfRelevanSeleksi.loc[y, 'label'])\n",
    "        dfRelevanSeleksi.loc[y, 'jumlah'] = search\n",
    "    except Exception as e :\n",
    "        print('gagal', dfRelevanSeleksi.loc[y, 'label'])\n",
    "        dfRelevanSeleksi.loc[y, 'jumlah'] = -1\n",
    "        \n",
    "dfRelevanSeleksi.sort_values(by=['jumlah'], axis=0, ascending=False, inplace=True)\n",
    "dfRelevanSeleksi.reset_index(drop=True, inplace=True)\n",
    "dfRelevanSeleksi"
   ]
  },
  {
   "cell_type": "code",
   "execution_count": 43,
   "metadata": {},
   "outputs": [
    {
     "data": {
      "text/plain": [
       "'ikan adalah anggota vertebrata poikilotermik (berdarah dingin) yang hidup di air dan bernapas dengan insang. ikan merupakan kelompok vertebrata yang paling beraneka ragam dengan jumlah spesies lebih dari 27,000 di seluruh dunia. secara taksonomi, ikan tergolong kelompok paraphyletic yang hubungan kekerabatannya masih diperdebatkan; biasanya ikan dibagi menjadi ikan tanpa rahang (kelas agnatha, 75 spesies termasuk lamprey dan ikan hag), ikan bertulang rawan (kelas chondrichthyes, 800 spesies termasuk hiu dan pari), dan sisanya tergolong ikan bertulang keras (kelas osteichthyes). ikan dalam berbagai bahasa daerah disebut iwak (jv, bjn), jukut (vkt).ikan memiliki bermacam ukuran, mulai dari paus hiu yang berukuran 14 meter (45 ft) hingga stout infantfish yang hanya berukuran 7 mm (kira-kira 1/4 inch). ada beberapa hewan air yang sering dianggap sebagai \"ikan\", seperti paus, ikan cumi dan ikan duyung, yang sebenarnya tidak tergolong sebagai ikan.\\nsampai saat ini, ikan pada umumnya dikonsumsi langsung. upaya pengolahan belum banyak dilakukan kecuali ikan asin. ikan dapat diolah menjadi berbagai produk seperti ikan kering, dendeng ikan, abon ikan, kerupuk ikan, ikan asin, kemplang, bakso ikan dan tepung darah ikan sebagai pupuk tanaman dan pakan ikan.'"
      ]
     },
     "execution_count": 43,
     "metadata": {},
     "output_type": "execute_result"
    }
   ],
   "source": [
    "wikipedia.summary('ikan').lower()"
   ]
  },
  {
   "cell_type": "code",
   "execution_count": null,
   "metadata": {},
   "outputs": [],
   "source": []
  },
  {
   "cell_type": "code",
   "execution_count": 33,
   "metadata": {},
   "outputs": [],
   "source": [
    "def textProsesSet(key):\n",
    "    arr = [a for a in key if a not in stopwords_list]\n",
    "            \n",
    "    return arr"
   ]
  },
  {
   "cell_type": "code",
   "execution_count": 55,
   "metadata": {},
   "outputs": [
    {
     "name": "stdout",
     "output_type": "stream",
     "text": [
      "Keyword : komodo\n"
     ]
    }
   ],
   "source": [
    "keyWord1 = input(\"Keyword : \")"
   ]
  },
  {
   "cell_type": "code",
   "execution_count": 56,
   "metadata": {},
   "outputs": [],
   "source": [
    "dataTraining = wikipedia.summary(keyWord1).lower()"
   ]
  },
  {
   "cell_type": "code",
   "execution_count": 57,
   "metadata": {},
   "outputs": [
    {
     "data": {
      "text/plain": [
       "'komodo, atau juga disebut biawak komodo (varanus komodoensis), adalah spesies biawak besar yang terdapat di pulau komodo, rinca, flores, gili motang, dan gili dasami di provinsi nusa tenggara timur, indonesia. biawak ini oleh penduduk asli pulau komodo juga disebut dengan nama setempat ora.komodo merupakan spesies terbesar dari familia varanidae, sekaligus kadal terbesar di dunia, dengan rata-rata panjang 2-3 meter dan beratnya bisa mencapai 100 kg. komodo merupakan pemangsa puncak di habitatnya karena sejauh ini tidak diketahui adanya hewan karnivora besar lain selain biawak ini di sebarang geografisnya.tubuhnya yang besar dan reputasinya yang mengerikan membuat mereka menjadi salah satu hewan paling terkenal di dunia. sekarang, habitat komodo yang sesungguhnya telah menyusut akibat aktivitas manusia, sehingga lembaga iucn memasukkan komodo sebagai spesies yang rentan terhadap kepunahan. biawak komodo telah ditetapkan sebagai hewan yang dilindungi oleh pemerintah indonesia dan habitanya dijadikan taman nasional, yaitu taman nasional komodo, yang tujuannya didirikan untuk melindungi mereka.'"
      ]
     },
     "execution_count": 57,
     "metadata": {},
     "output_type": "execute_result"
    }
   ],
   "source": [
    "dataTraining"
   ]
  },
  {
   "cell_type": "code",
   "execution_count": 58,
   "metadata": {},
   "outputs": [],
   "source": [
    "data = text_proses(dataTraining)\n",
    "dataJoin = \" \".join(data)"
   ]
  },
  {
   "cell_type": "code",
   "execution_count": 59,
   "metadata": {},
   "outputs": [
    {
     "name": "stdout",
     "output_type": "stream",
     "text": [
      "['komodo', 'biawak', 'komodo', 'varanus', 'komodoensis', 'spesies', 'biawak', 'pulau', 'komodo', 'rinca', 'flores', 'gili', 'motang', 'gili', 'dasami', 'provinsi', 'nusa', 'tenggara', 'timur', 'indonesia', 'biawak', 'penduduk', 'asli', 'pulau', 'komodo', 'nama', 'orakomodo', 'spesies', 'terbesar', 'familia', 'varanidae', 'kadal', 'terbesar', 'dunia', 'ratarata', '23', 'meter', 'berat', 'mencapai', '100', 'kg', 'komodo', 'pemangsa', 'puncak', 'habitat', 'hewan', 'karnivora', 'biawak', 'sebarang', 'geografistubuh', 'reputasi', 'mengerikan', 'salah', 'hewan', 'terkenal', 'dunia', 'habitat', 'komodo', 'sesungguh', 'menyusut', 'akibat', 'aktivitas', 'manusia', 'lembaga', 'iucn', 'memasukkan', 'komodo', 'spesies', 'rentan', 'kepunahan', 'biawak', 'komodo', 'ditetapkan', 'hewan', 'dilindungi', 'pemerintah', 'indonesia', 'habita', 'dijadikan', 'taman', 'nasional', 'taman', 'nasional', 'komodo', 'tujuan', 'didirikan', 'melindungi']\n",
      "komodo biawak komodo varanus komodoensis spesies biawak pulau komodo rinca flores gili motang gili dasami provinsi nusa tenggara timur indonesia biawak penduduk asli pulau komodo nama orakomodo spesies terbesar familia varanidae kadal terbesar dunia ratarata 23 meter berat mencapai 100 kg komodo pemangsa puncak habitat hewan karnivora biawak sebarang geografistubuh reputasi mengerikan salah hewan terkenal dunia habitat komodo sesungguh menyusut akibat aktivitas manusia lembaga iucn memasukkan komodo spesies rentan kepunahan biawak komodo ditetapkan hewan dilindungi pemerintah indonesia habita dijadikan taman nasional taman nasional komodo tujuan didirikan melindungi\n"
     ]
    }
   ],
   "source": [
    "print(data)\n",
    "# print(dataJoin)"
   ]
  },
  {
   "cell_type": "code",
   "execution_count": 60,
   "metadata": {},
   "outputs": [],
   "source": [
    "dataSetKeyword = pd.read_excel(\"datasetKeyword.xlsx\")\n",
    "dataSetKelas = pd.read_excel(\"datasetKelas.xlsx\")"
   ]
  },
  {
   "cell_type": "code",
   "execution_count": 61,
   "metadata": {},
   "outputs": [],
   "source": [
    "count = CountVectorizer(analyzer=textProsesSet).fit([dataSetKeyword['name']])\n",
    "countVectorKelas = CountVectorizer(analyzer=text_proses).fit(dataSetKelas['name'])"
   ]
  },
  {
   "cell_type": "code",
   "execution_count": 62,
   "metadata": {},
   "outputs": [],
   "source": [
    "count1 = count.transform([data])\n",
    "countKelas = countVectorKelas.transform([dataJoin])"
   ]
  },
  {
   "cell_type": "code",
   "execution_count": 63,
   "metadata": {},
   "outputs": [
    {
     "name": "stdout",
     "output_type": "stream",
     "text": [
      "[2, 2]\n"
     ]
    }
   ],
   "source": [
    "a = count1.copy()\n",
    "\n",
    "labelSet = [count.get_feature_names()[x] for x in a.indices]\n",
    "munculSet = [a.data[x] for x in range(len(a.indices))]\n",
    "kelasSetTes = [c for c in dataSetKeyword.name if c in labelSet]\n",
    "kelasSet = []\n",
    "\n",
    "for c in labelSet:\n",
    "    if c in kelasSetTes:\n",
    "        kelasSet.append(dataSetKeyword.loc[dataSetKeyword['name'] == c]['kelas'].values[0])\n",
    "    else:kelasSet.append(-1)\n",
    "    \n",
    "print(kelasSet)\n",
    "\n",
    "pdSet = pd.DataFrame({'label':labelSet, 'kelas':kelasSet, 'muncul':munculSet}).sort_values(axis=0, by=['muncul', 'label'], ascending=False)"
   ]
  },
  {
   "cell_type": "code",
   "execution_count": 64,
   "metadata": {},
   "outputs": [
    {
     "name": "stdout",
     "output_type": "stream",
     "text": [
      "['amerika serikat', 'apel', 'betina', 'china', 'gajah', 'harimau', 'ibu kota', 'ikan', 'indonesia', 'jambu', 'jantan', 'jepang', 'jeruk', 'kota', 'kucing', 'kuda', 'kuda laut', 'kuda nil', 'malaysia', 'melon', 'pepaya', 'pulau', 'semangka', 'singa', 'singapura', 'tikus']\n",
      "ini :   (0, 8)\t2\n",
      "  (0, 21)\t2\n"
     ]
    }
   ],
   "source": [
    "print(count.get_feature_names())\n",
    "print('ini :', count1)"
   ]
  },
  {
   "cell_type": "code",
   "execution_count": 65,
   "metadata": {},
   "outputs": [
    {
     "data": {
      "text/html": [
       "<div>\n",
       "<style scoped>\n",
       "    .dataframe tbody tr th:only-of-type {\n",
       "        vertical-align: middle;\n",
       "    }\n",
       "\n",
       "    .dataframe tbody tr th {\n",
       "        vertical-align: top;\n",
       "    }\n",
       "\n",
       "    .dataframe thead th {\n",
       "        text-align: right;\n",
       "    }\n",
       "</style>\n",
       "<table border=\"1\" class=\"dataframe\">\n",
       "  <thead>\n",
       "    <tr style=\"text-align: right;\">\n",
       "      <th></th>\n",
       "      <th>label</th>\n",
       "      <th>kelas</th>\n",
       "      <th>muncul</th>\n",
       "    </tr>\n",
       "  </thead>\n",
       "  <tbody>\n",
       "    <tr>\n",
       "      <th>1</th>\n",
       "      <td>pulau</td>\n",
       "      <td>2</td>\n",
       "      <td>2</td>\n",
       "    </tr>\n",
       "    <tr>\n",
       "      <th>0</th>\n",
       "      <td>indonesia</td>\n",
       "      <td>2</td>\n",
       "      <td>2</td>\n",
       "    </tr>\n",
       "  </tbody>\n",
       "</table>\n",
       "</div>"
      ],
      "text/plain": [
       "       label  kelas  muncul\n",
       "1      pulau      2       2\n",
       "0  indonesia      2       2"
      ]
     },
     "execution_count": 65,
     "metadata": {},
     "output_type": "execute_result"
    }
   ],
   "source": [
    "pdSet"
   ]
  },
  {
   "cell_type": "code",
   "execution_count": 39,
   "metadata": {},
   "outputs": [],
   "source": [
    "aKelas = countKelas.copy()\n",
    "\n",
    "labelSetKelas = [countVectorKelas.get_feature_names()[x] for x in aKelas.indices]\n",
    "munculSetKelas = [aKelas.data[x] for x in range(len(aKelas.indices))]\n",
    "\n",
    "pdSetKelas = pd.DataFrame({'label':labelSetKelas, 'muncul':munculSetKelas}).sort_values(axis=0, by=['muncul', 'label'], ascending=False)"
   ]
  },
  {
   "cell_type": "code",
   "execution_count": 40,
   "metadata": {},
   "outputs": [
    {
     "data": {
      "text/html": [
       "<div>\n",
       "<style scoped>\n",
       "    .dataframe tbody tr th:only-of-type {\n",
       "        vertical-align: middle;\n",
       "    }\n",
       "\n",
       "    .dataframe tbody tr th {\n",
       "        vertical-align: top;\n",
       "    }\n",
       "\n",
       "    .dataframe thead th {\n",
       "        text-align: right;\n",
       "    }\n",
       "</style>\n",
       "<table border=\"1\" class=\"dataframe\">\n",
       "  <thead>\n",
       "    <tr style=\"text-align: right;\">\n",
       "      <th></th>\n",
       "      <th>label</th>\n",
       "      <th>muncul</th>\n",
       "    </tr>\n",
       "  </thead>\n",
       "  <tbody>\n",
       "  </tbody>\n",
       "</table>\n",
       "</div>"
      ],
      "text/plain": [
       "Empty DataFrame\n",
       "Columns: [label, muncul]\n",
       "Index: []"
      ]
     },
     "execution_count": 40,
     "metadata": {},
     "output_type": "execute_result"
    }
   ],
   "source": [
    "pdSetKelas"
   ]
  },
  {
   "cell_type": "code",
   "execution_count": 41,
   "metadata": {},
   "outputs": [],
   "source": [
    "def selectionDuplicate(valueTrain):\n",
    "    listData = []\n",
    "    listfoundData = []\n",
    "    for a in valueTrain:\n",
    "        if a not in listData:\n",
    "            listData.append(a)\n",
    "        else:\n",
    "            listfoundData.append(a)\n",
    "\n",
    "    npLabel = []\n",
    "    countLabel = []\n",
    "    for a in listfoundData:\n",
    "        if a not in npLabel:\n",
    "            npLabel.append(a)\n",
    "            countLabel.append((listfoundData.count(a) + 1))\n",
    "\n",
    "\n",
    "    pdTrain = pd.DataFrame({'label':npLabel, 'muncul':countLabel})\n",
    "    return pdTrain"
   ]
  },
  {
   "cell_type": "code",
   "execution_count": 42,
   "metadata": {},
   "outputs": [],
   "source": [
    "dataTrainSelect = selectionDuplicate(data)"
   ]
  },
  {
   "cell_type": "code",
   "execution_count": 43,
   "metadata": {},
   "outputs": [
    {
     "data": {
      "text/html": [
       "<div>\n",
       "<style scoped>\n",
       "    .dataframe tbody tr th:only-of-type {\n",
       "        vertical-align: middle;\n",
       "    }\n",
       "\n",
       "    .dataframe tbody tr th {\n",
       "        vertical-align: top;\n",
       "    }\n",
       "\n",
       "    .dataframe thead th {\n",
       "        text-align: right;\n",
       "    }\n",
       "</style>\n",
       "<table border=\"1\" class=\"dataframe\">\n",
       "  <thead>\n",
       "    <tr style=\"text-align: right;\">\n",
       "      <th></th>\n",
       "      <th>label</th>\n",
       "      <th>muncul</th>\n",
       "    </tr>\n",
       "  </thead>\n",
       "  <tbody>\n",
       "    <tr>\n",
       "      <th>0</th>\n",
       "      <td>pulau</td>\n",
       "      <td>6</td>\n",
       "    </tr>\n",
       "    <tr>\n",
       "      <th>1</th>\n",
       "      <td>lombok</td>\n",
       "      <td>2</td>\n",
       "    </tr>\n",
       "    <tr>\n",
       "      <th>2</th>\n",
       "      <td>selat</td>\n",
       "      <td>2</td>\n",
       "    </tr>\n",
       "    <tr>\n",
       "      <th>3</th>\n",
       "      <td>sebelah</td>\n",
       "      <td>2</td>\n",
       "    </tr>\n",
       "    <tr>\n",
       "      <th>4</th>\n",
       "      <td>barat</td>\n",
       "      <td>2</td>\n",
       "    </tr>\n",
       "    <tr>\n",
       "      <th>5</th>\n",
       "      <td>luas</td>\n",
       "      <td>2</td>\n",
       "    </tr>\n",
       "    <tr>\n",
       "      <th>6</th>\n",
       "      <td>kota</td>\n",
       "      <td>2</td>\n",
       "    </tr>\n",
       "  </tbody>\n",
       "</table>\n",
       "</div>"
      ],
      "text/plain": [
       "     label  muncul\n",
       "0    pulau       6\n",
       "1   lombok       2\n",
       "2    selat       2\n",
       "3  sebelah       2\n",
       "4    barat       2\n",
       "5     luas       2\n",
       "6     kota       2"
      ]
     },
     "execution_count": 43,
     "metadata": {},
     "output_type": "execute_result"
    }
   ],
   "source": [
    "dataTrainSelect"
   ]
  },
  {
   "cell_type": "code",
   "execution_count": null,
   "metadata": {},
   "outputs": [],
   "source": []
  }
 ],
 "metadata": {
  "kernelspec": {
   "display_name": "Python 3",
   "language": "python",
   "name": "python3"
  },
  "language_info": {
   "codemirror_mode": {
    "name": "ipython",
    "version": 3
   },
   "file_extension": ".py",
   "mimetype": "text/x-python",
   "name": "python",
   "nbconvert_exporter": "python",
   "pygments_lexer": "ipython3",
   "version": "3.8.3"
  }
 },
 "nbformat": 4,
 "nbformat_minor": 4
}
