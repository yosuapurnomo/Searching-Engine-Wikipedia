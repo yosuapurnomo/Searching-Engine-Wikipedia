{
 "cells": [
  {
   "cell_type": "code",
   "execution_count": 213,
   "metadata": {},
   "outputs": [],
   "source": [
    "import nltk\n",
    "import wikipedia\n",
    "import string\n",
    "import numpy as np\n",
    "from sklearn.feature_extraction.text import CountVectorizer as feature\n",
    "import pandas as pd"
   ]
  },
  {
   "cell_type": "code",
   "execution_count": null,
   "metadata": {},
   "outputs": [],
   "source": []
  },
  {
   "cell_type": "code",
   "execution_count": 4,
   "metadata": {},
   "outputs": [],
   "source": [
    "# nltk.download_shell()"
   ]
  },
  {
   "cell_type": "code",
   "execution_count": 92,
   "metadata": {},
   "outputs": [],
   "source": [
    "stopwords_list = nltk.corpus.stopwords.words('indonesian')"
   ]
  },
  {
   "cell_type": "code",
   "execution_count": 12,
   "metadata": {},
   "outputs": [],
   "source": [
    "wikipedia.set_lang('id')"
   ]
  },
  {
   "cell_type": "code",
   "execution_count": 208,
   "metadata": {},
   "outputs": [],
   "source": [
    "dataTraining = wikipedia.summary('jalan', sentences=3).lower()"
   ]
  },
  {
   "cell_type": "code",
   "execution_count": 209,
   "metadata": {},
   "outputs": [
    {
     "name": "stdout",
     "output_type": "stream",
     "text": [
      "jalan adalah prasarana transportasi darat yang meliputi segala bagian area darat, termasuk bangunan pelengkap dan perlengkapannya yang diperuntukkan bagi lalu lintas, yang berada pada permukaan tanah, di atas permukaan tanah, di bawah permukaan tanah dan/atau air, serta di atas permukaan air, kecuali jalan kereta api, jalan lori, dan jalan kabel.\n",
      "jalan umum adalah jalan yang diperuntukkan bagi lalu lintas umum.\n",
      "jalan khusus adalah jalan yang di bangun oleh instasi, badan usaha, perseorangan, atau kelompok masyarakat untuk kepentingan sendiri.\n"
     ]
    }
   ],
   "source": [
    "print(dataTraining)"
   ]
  },
  {
   "cell_type": "code",
   "execution_count": null,
   "metadata": {},
   "outputs": [],
   "source": []
  },
  {
   "cell_type": "code",
   "execution_count": 210,
   "metadata": {},
   "outputs": [],
   "source": [
    "def text_proses():\n",
    "    dataTraining_Selection = dataTraining.split()\n",
    "    \n",
    "#     dataTraining_Selection = [word for word in dataTraining if word not in ([i for i in string.punctuation])]\n",
    "#     dataTraining_Selection = ''.join(dataTraining_Selection)\n",
    "\n",
    "    dataTraining_Selection = [word for word in dataTraining_Selection if word not in stopwords_list]\n",
    "    return dataTraining_Selection"
   ]
  },
  {
   "cell_type": "code",
   "execution_count": 211,
   "metadata": {},
   "outputs": [
    {
     "name": "stdout",
     "output_type": "stream",
     "text": [
      "jalan adalah prasarana transportasi darat yang meliputi segala bagian area darat, termasuk bangunan pelengkap dan perlengkapannya yang diperuntukkan bagi lalu lintas, yang berada pada permukaan tanah, di atas permukaan tanah, di bawah permukaan tanah dan/atau air, serta di atas permukaan air, kecuali jalan kereta api, jalan lori, dan jalan kabel.\n",
      "jalan umum adalah jalan yang diperuntukkan bagi lalu lintas umum.\n",
      "jalan khusus adalah jalan yang di bangun oleh instasi, badan usaha, perseorangan, atau kelompok masyarakat untuk kepentingan sendiri. \n",
      "\n",
      "['jalan', 'prasarana', 'transportasi', 'darat', 'meliputi', 'area', 'darat,', 'bangunan', 'pelengkap', 'perlengkapannya', 'diperuntukkan', 'lintas,', 'permukaan', 'tanah,', 'permukaan', 'tanah,', 'permukaan', 'tanah', 'dan/atau', 'air,', 'permukaan', 'air,', 'kecuali', 'jalan', 'kereta', 'api,', 'jalan', 'lori,', 'jalan', 'kabel.', 'jalan', 'jalan', 'diperuntukkan', 'lintas', 'umum.', 'jalan', 'khusus', 'jalan', 'bangun', 'instasi,', 'badan', 'usaha,', 'perseorangan,', 'kelompok', 'masyarakat', 'kepentingan', 'sendiri.']\n",
      "jalan\n",
      "prasarana\n",
      "transportasi\n",
      "darat\n",
      "meliputi\n",
      "area\n",
      "darat,\n",
      "bangunan\n",
      "pelengkap\n",
      "perlengkapannya\n",
      "diperuntukkan\n",
      "lintas,\n",
      "permukaan\n",
      "tanah,\n",
      "permukaan\n",
      "tanah,\n",
      "permukaan\n",
      "tanah\n",
      "dan/atau\n",
      "air,\n",
      "permukaan\n",
      "air,\n",
      "kecuali\n",
      "jalan\n",
      "kereta\n",
      "api,\n",
      "jalan\n",
      "lori,\n",
      "jalan\n",
      "kabel.\n",
      "jalan\n",
      "jalan\n",
      "diperuntukkan\n",
      "lintas\n",
      "umum.\n",
      "jalan\n",
      "khusus\n",
      "jalan\n",
      "bangun\n",
      "instasi,\n",
      "badan\n",
      "usaha,\n",
      "perseorangan,\n",
      "kelompok\n",
      "masyarakat\n",
      "kepentingan\n",
      "sendiri.\n"
     ]
    }
   ],
   "source": [
    "data = text_proses()\n",
    "print(dataTraining, \"\\n\")\n",
    "print(data)\n",
    "punc = [\"(\", \")\", \":\",]\n",
    "for count, i in enumerate(data):\n",
    "    print(i)\n",
    "    if \"(\" in ([y for y in i]):\n",
    "        print(\"Ada : \", i, count)\n",
    "    elif \")\" in ([y for y in i]):\n",
    "        print(\"Ada : \", i, count)"
   ]
  },
  {
   "cell_type": "code",
   "execution_count": 127,
   "metadata": {},
   "outputs": [
    {
     "data": {
      "text/plain": [
       "'KucingkucingdomestikkucingrumahnamailmiahFelissilvestriscatusFeliscatussejenismamaliakarnivorakeluargaFelidaeKatakucingmerujukkucingdijinakkanmerujukkucingsingaharimauKucingberbaurkehidupanmanusia6000SMkerangkakucingPulauSiprus'"
      ]
     },
     "execution_count": 127,
     "metadata": {},
     "output_type": "execute_result"
    }
   ],
   "source": [
    "dataset = pd.read_excel(\"dataset.xlsx\")"
   ]
  },
  {
   "cell_type": "code",
   "execution_count": null,
   "metadata": {},
   "outputs": [],
   "source": []
  }
 ],
 "metadata": {
  "kernelspec": {
   "display_name": "Python 3",
   "language": "python",
   "name": "python3"
  },
  "language_info": {
   "codemirror_mode": {
    "name": "ipython",
    "version": 3
   },
   "file_extension": ".py",
   "mimetype": "text/x-python",
   "name": "python",
   "nbconvert_exporter": "python",
   "pygments_lexer": "ipython3",
   "version": "3.8.3"
  }
 },
 "nbformat": 4,
 "nbformat_minor": 4
}
