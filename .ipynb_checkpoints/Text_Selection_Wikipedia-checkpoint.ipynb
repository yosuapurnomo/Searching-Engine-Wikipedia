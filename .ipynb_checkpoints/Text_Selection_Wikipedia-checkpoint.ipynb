{
 "cells": [
  {
   "cell_type": "code",
   "execution_count": 1,
   "metadata": {},
   "outputs": [],
   "source": [
    "import nltk\n",
    "import wikipedia\n",
    "import string\n",
    "import numpy as np\n",
    "import pandas as pd"
   ]
  },
  {
   "cell_type": "code",
   "execution_count": null,
   "metadata": {},
   "outputs": [],
   "source": []
  },
  {
   "cell_type": "code",
   "execution_count": 2,
   "metadata": {},
   "outputs": [],
   "source": [
    "# nltk.download_shell()"
   ]
  },
  {
   "cell_type": "code",
   "execution_count": 3,
   "metadata": {},
   "outputs": [],
   "source": [
    "stopwords_list = nltk.corpus.stopwords.words('indonesian')"
   ]
  },
  {
   "cell_type": "code",
   "execution_count": 4,
   "metadata": {},
   "outputs": [],
   "source": [
    "wikipedia.set_lang('id')"
   ]
  },
  {
   "cell_type": "code",
   "execution_count": 206,
   "metadata": {},
   "outputs": [],
   "source": [
    "dataTraining = wikipedia.summary('singa', sentences=3).lower()"
   ]
  },
  {
   "cell_type": "code",
   "execution_count": 207,
   "metadata": {},
   "outputs": [
    {
     "name": "stdout",
     "output_type": "stream",
     "text": [
      "singa (bahasa sanskerta: siṃha, atau nama ilmiahnya panthera leo) adalah spesies hewan dari keluarga felidae atau jenis kucing. singa merupakan hewan yang hidup berkelompok. biasanya terdiri dari seekor jantan dan banyak betina.\n"
     ]
    }
   ],
   "source": [
    "print(dataTraining)"
   ]
  },
  {
   "cell_type": "code",
   "execution_count": null,
   "metadata": {},
   "outputs": [],
   "source": []
  },
  {
   "cell_type": "code",
   "execution_count": 208,
   "metadata": {},
   "outputs": [],
   "source": [
    "def text_proses(keyword):\n",
    "#     split = keyword.split()\n",
    "    \n",
    "    dataTraining_Selection = [word for word in keyword if word not in string.punctuation]\n",
    "    dataTraining_Selection = ''.join(dataTraining_Selection)\n",
    "\n",
    "    \n",
    "    return [word for word in dataTraining_Selection.split() if word.lower() not in stopwords_list]"
   ]
  },
  {
   "cell_type": "code",
   "execution_count": 223,
   "metadata": {},
   "outputs": [
    {
     "name": "stdout",
     "output_type": "stream",
     "text": [
      "['singa', 'bahasa', 'sanskerta', 'siṃha', 'nama', 'ilmiahnya', 'panthera', 'leo', 'spesies', 'hewan', 'keluarga', 'felidae', 'jenis', 'kucing', 'singa', 'hewan', 'hidup', 'berkelompok', 'seekor', 'jantan', 'betina']\n"
     ]
    },
    {
     "data": {
      "text/plain": [
       "21"
      ]
     },
     "execution_count": 223,
     "metadata": {},
     "output_type": "execute_result"
    }
   ],
   "source": [
    "data = text_proses(dataTraining)\n",
    "print(data)\n",
    "len(data)"
   ]
  },
  {
   "cell_type": "code",
   "execution_count": 210,
   "metadata": {},
   "outputs": [],
   "source": [
    "dataset = pd.read_excel(\"dataset.xlsx\")"
   ]
  },
  {
   "cell_type": "code",
   "execution_count": 211,
   "metadata": {},
   "outputs": [
    {
     "data": {
      "text/html": [
       "<div>\n",
       "<style scoped>\n",
       "    .dataframe tbody tr th:only-of-type {\n",
       "        vertical-align: middle;\n",
       "    }\n",
       "\n",
       "    .dataframe tbody tr th {\n",
       "        vertical-align: top;\n",
       "    }\n",
       "\n",
       "    .dataframe thead th {\n",
       "        text-align: right;\n",
       "    }\n",
       "</style>\n",
       "<table border=\"1\" class=\"dataframe\">\n",
       "  <thead>\n",
       "    <tr style=\"text-align: right;\">\n",
       "      <th></th>\n",
       "      <th>id</th>\n",
       "      <th>name</th>\n",
       "      <th>index</th>\n",
       "    </tr>\n",
       "  </thead>\n",
       "  <tbody>\n",
       "    <tr>\n",
       "      <th>0</th>\n",
       "      <td>0</td>\n",
       "      <td>kucing</td>\n",
       "      <td>1</td>\n",
       "    </tr>\n",
       "    <tr>\n",
       "      <th>1</th>\n",
       "      <td>1</td>\n",
       "      <td>singa</td>\n",
       "      <td>0</td>\n",
       "    </tr>\n",
       "    <tr>\n",
       "      <th>2</th>\n",
       "      <td>2</td>\n",
       "      <td>mamalia</td>\n",
       "      <td>0</td>\n",
       "    </tr>\n",
       "    <tr>\n",
       "      <th>3</th>\n",
       "      <td>3</td>\n",
       "      <td>karnivora</td>\n",
       "      <td>0</td>\n",
       "    </tr>\n",
       "    <tr>\n",
       "      <th>4</th>\n",
       "      <td>4</td>\n",
       "      <td>siṃha</td>\n",
       "      <td>1</td>\n",
       "    </tr>\n",
       "    <tr>\n",
       "      <th>5</th>\n",
       "      <td>5</td>\n",
       "      <td>hewan</td>\n",
       "      <td>0</td>\n",
       "    </tr>\n",
       "    <tr>\n",
       "      <th>6</th>\n",
       "      <td>6</td>\n",
       "      <td>hewan</td>\n",
       "      <td>1</td>\n",
       "    </tr>\n",
       "    <tr>\n",
       "      <th>7</th>\n",
       "      <td>7</td>\n",
       "      <td>kucing</td>\n",
       "      <td>1</td>\n",
       "    </tr>\n",
       "    <tr>\n",
       "      <th>8</th>\n",
       "      <td>8</td>\n",
       "      <td>jantan</td>\n",
       "      <td>5</td>\n",
       "    </tr>\n",
       "    <tr>\n",
       "      <th>9</th>\n",
       "      <td>9</td>\n",
       "      <td>betina</td>\n",
       "      <td>5</td>\n",
       "    </tr>\n",
       "    <tr>\n",
       "      <th>10</th>\n",
       "      <td>10</td>\n",
       "      <td>indonesia</td>\n",
       "      <td>11</td>\n",
       "    </tr>\n",
       "    <tr>\n",
       "      <th>11</th>\n",
       "      <td>11</td>\n",
       "      <td>republik</td>\n",
       "      <td>10</td>\n",
       "    </tr>\n",
       "    <tr>\n",
       "      <th>12</th>\n",
       "      <td>12</td>\n",
       "      <td>negara</td>\n",
       "      <td>10</td>\n",
       "    </tr>\n",
       "    <tr>\n",
       "      <th>13</th>\n",
       "      <td>13</td>\n",
       "      <td>nkri</td>\n",
       "      <td>10</td>\n",
       "    </tr>\n",
       "    <tr>\n",
       "      <th>14</th>\n",
       "      <td>14</td>\n",
       "      <td>khatulistiwa</td>\n",
       "      <td>10</td>\n",
       "    </tr>\n",
       "    <tr>\n",
       "      <th>15</th>\n",
       "      <td>15</td>\n",
       "      <td>nusantara</td>\n",
       "      <td>10</td>\n",
       "    </tr>\n",
       "  </tbody>\n",
       "</table>\n",
       "</div>"
      ],
      "text/plain": [
       "    id          name  index\n",
       "0    0        kucing      1\n",
       "1    1         singa      0\n",
       "2    2       mamalia      0\n",
       "3    3     karnivora      0\n",
       "4    4         siṃha      1\n",
       "5    5         hewan      0\n",
       "6    6         hewan      1\n",
       "7    7        kucing      1\n",
       "8    8        jantan      5\n",
       "9    9        betina      5\n",
       "10  10     indonesia     11\n",
       "11  11      republik     10\n",
       "12  12        negara     10\n",
       "13  13          nkri     10\n",
       "14  14  khatulistiwa     10\n",
       "15  15     nusantara     10"
      ]
     },
     "execution_count": 211,
     "metadata": {},
     "output_type": "execute_result"
    }
   ],
   "source": [
    "dataset"
   ]
  },
  {
   "cell_type": "code",
   "execution_count": 314,
   "metadata": {},
   "outputs": [],
   "source": [
    "from sklearn.feature_extraction.text import CountVectorizer, TfidfTransformer"
   ]
  },
  {
   "cell_type": "code",
   "execution_count": 231,
   "metadata": {},
   "outputs": [
    {
     "name": "stdout",
     "output_type": "stream",
     "text": [
      "{'singa': 16, 'bahasa': 0, 'sanskerta': 14, 'siṃha': 17, 'nama': 12, 'ilmiahnya': 6, 'panthera': 13, 'leo': 11, 'spesies': 18, 'hewan': 4, 'keluarga': 9, 'felidae': 3, 'jenis': 8, 'kucing': 10, 'hidup': 5, 'berkelompok': 1, 'seekor': 15, 'jantan': 7, 'betina': 2}\n"
     ]
    }
   ],
   "source": [
    "count = CountVectorizer(analyzer=text_proses).fit([dataTraining])\n",
    "print(count.vocabulary_)"
   ]
  },
  {
   "cell_type": "code",
   "execution_count": 214,
   "metadata": {},
   "outputs": [
    {
     "data": {
      "text/plain": [
       "'kucing singa mamalia karnivora siṃha hewan hewan kucing jantan betina indonesia republik negara nkri khatulistiwa nusantara'"
      ]
     },
     "execution_count": 214,
     "metadata": {},
     "output_type": "execute_result"
    }
   ],
   "source": [
    "mess = dataset['name'].values\n",
    "mess = ' '.join(mess)\n",
    "mess"
   ]
  },
  {
   "cell_type": "code",
   "execution_count": 357,
   "metadata": {},
   "outputs": [
    {
     "name": "stdout",
     "output_type": "stream",
     "text": [
      "  (0, 2)\t1\n",
      "  (0, 4)\t2\n",
      "  (0, 7)\t1\n",
      "  (0, 10)\t2\n",
      "  (0, 16)\t1\n",
      "  (0, 17)\t1\n",
      "(1, 19)\n"
     ]
    }
   ],
   "source": [
    "count1 = count.transform([mess])\n",
    "count2 = count.transform([dataTraining])\n",
    "print(count1)\n",
    "print(count1.shape)"
   ]
  },
  {
   "cell_type": "code",
   "execution_count": 356,
   "metadata": {},
   "outputs": [
    {
     "name": "stdout",
     "output_type": "stream",
     "text": [
      "hewan\n",
      "kucing\n"
     ]
    }
   ],
   "source": [
    "a = count1.copy()\n",
    "print(count.get_feature_names()[4])\n",
    "print(count.get_feature_names()[10])"
   ]
  },
  {
   "cell_type": "code",
   "execution_count": 347,
   "metadata": {},
   "outputs": [
    {
     "name": "stdout",
     "output_type": "stream",
     "text": [
      "  (0, 18)\t0.24122010249287193\n",
      "  (0, 17)\t0.14246847838301768\n",
      "  (0, 16)\t0.28493695676603537\n",
      "  (0, 15)\t0.24122010249287193\n",
      "  (0, 14)\t0.24122010249287193\n",
      "  (0, 13)\t0.24122010249287193\n",
      "  (0, 12)\t0.24122010249287193\n",
      "  (0, 11)\t0.24122010249287193\n",
      "  (0, 10)\t0.14246847838301768\n",
      "  (0, 9)\t0.24122010249287193\n",
      "  (0, 8)\t0.24122010249287193\n",
      "  (0, 7)\t0.14246847838301768\n",
      "  (0, 6)\t0.24122010249287193\n",
      "  (0, 5)\t0.24122010249287193\n",
      "  (0, 4)\t0.28493695676603537\n",
      "  (0, 3)\t0.24122010249287193\n",
      "  (0, 2)\t0.14246847838301768\n",
      "  (0, 1)\t0.24122010249287193\n",
      "  (0, 0)\t0.24122010249287193\n"
     ]
    }
   ],
   "source": [
    "tfid = TfidfTransformer().fit(count1)\n",
    "tfid4 = tfid.transform(count2)\n",
    "print(tfid4)"
   ]
  },
  {
   "cell_type": "code",
   "execution_count": 350,
   "metadata": {},
   "outputs": [
    {
     "name": "stdout",
     "output_type": "stream",
     "text": [
      "1.0\n"
     ]
    }
   ],
   "source": [
    "print(tfid.idf_[count.vocabulary_['kucing']])"
   ]
  },
  {
   "cell_type": "code",
   "execution_count": 354,
   "metadata": {},
   "outputs": [
    {
     "name": "stdout",
     "output_type": "stream",
     "text": [
      "[('singa', 2), ('hewan', 2)]\n"
     ]
    },
    {
     "data": {
      "text/plain": [
       "'hewan'"
      ]
     },
     "execution_count": 354,
     "metadata": {},
     "output_type": "execute_result"
    }
   ],
   "source": [
    "from collections import Counter\n",
    "\n",
    "items = [item for item in Counter(data).items() if item[1] > 1]\n",
    "print(items)\n",
    "items[1][0]"
   ]
  },
  {
   "cell_type": "code",
   "execution_count": null,
   "metadata": {},
   "outputs": [],
   "source": []
  }
 ],
 "metadata": {
  "kernelspec": {
   "display_name": "Python 3",
   "language": "python",
   "name": "python3"
  },
  "language_info": {
   "codemirror_mode": {
    "name": "ipython",
    "version": 3
   },
   "file_extension": ".py",
   "mimetype": "text/x-python",
   "name": "python",
   "nbconvert_exporter": "python",
   "pygments_lexer": "ipython3",
   "version": "3.8.3"
  }
 },
 "nbformat": 4,
 "nbformat_minor": 4
}
